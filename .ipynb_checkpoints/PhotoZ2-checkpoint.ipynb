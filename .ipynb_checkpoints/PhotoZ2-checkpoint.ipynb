{
 "cells": [
  {
   "cell_type": "code",
   "execution_count": 1,
   "metadata": {},
   "outputs": [],
   "source": [
    "import pandas as pd\n",
    "import numpy as np\n",
    "import matplotlib.pyplot as plt\n",
    "%matplotlib inline\n",
    "from itertools import combinations as comb"
   ]
  },
  {
   "cell_type": "code",
   "execution_count": 2,
   "metadata": {},
   "outputs": [
    {
     "name": "stdout",
     "output_type": "stream",
     "text": [
      "['m_u' 'm_g' 'm_r' 'm_i' 'm_z' 'pm_u' 'pm_g' 'pm_r' 'pm_i' 'pm_z' 'ext_u'\n",
      " 'ext_g' 'ext_r' 'ext_i' 'ext_z' 'ug' 'gr' 'ri' 'iz' 'p_ug' 'p_gr' 'p_ri'\n",
      " 'p_iz' 'z']\n"
     ]
    }
   ],
   "source": [
    "dataset = pd.read_csv(\"SDSSDR7-5-percent-err-limit-5000-line.csv\")\n",
    "print(dataset.columns.values)"
   ]
  },
  {
   "cell_type": "code",
   "execution_count": 3,
   "metadata": {},
   "outputs": [],
   "source": [
    "beck_columns = ['m_r', 'ug', 'gr', 'ri', 'iz'] # 5 dimensions"
   ]
  },
  {
   "cell_type": "code",
   "execution_count": 4,
   "metadata": {},
   "outputs": [],
   "source": [
    "# Creating training and test sets from data\n",
    "mask = np.random.rand(len(dataset)) < 0.8 # make the test set more then 20% of the dataset\n",
    "# Convert masked data to np array\n",
    "train = dataset[mask]\n",
    "test = dataset[~mask]"
   ]
  },
  {
   "cell_type": "code",
   "execution_count": 5,
   "metadata": {},
   "outputs": [
    {
     "name": "stdout",
     "output_type": "stream",
     "text": [
      "(4015, 24) (985, 24)\n"
     ]
    }
   ],
   "source": [
    "print(train.shape, test.shape)"
   ]
  },
  {
   "cell_type": "code",
   "execution_count": 6,
   "metadata": {},
   "outputs": [
    {
     "name": "stderr",
     "output_type": "stream",
     "text": [
      "/home/alex.olar@odigeo.org/anaconda3/lib/python3.6/site-packages/sklearn/cross_validation.py:41: DeprecationWarning: This module was deprecated in version 0.18 in favor of the model_selection module into which all the refactored classes and functions are moved. Also note that the interface of the new CV iterators are different from that of this module. This module will be removed in 0.20.\n",
      "  \"This module will be removed in 0.20.\", DeprecationWarning)\n"
     ]
    }
   ],
   "source": [
    "from sklearn.neighbors import NearestNeighbors\n",
    "from sklearn.cross_validation import train_test_split\n",
    "from sklearn.linear_model import LinearRegression"
   ]
  },
  {
   "cell_type": "code",
   "execution_count": 71,
   "metadata": {},
   "outputs": [],
   "source": [
    "def linfit(x_train, y_train):\n",
    "    reg = LinearRegression()\n",
    "    fit = reg.fit(x_train, y_train)\n",
    "    return reg\n",
    "\n",
    "def predict_redshift(x_train, y_train, y_test):\n",
    "    reg = linfit(x_train, y_train)\n",
    "    return reg.predict(y_test.reshape(1,-1))\n",
    "\n",
    "def calc_excluded_indices(x_reg, y_reg, k):\n",
    "    deltas = []\n",
    "    linreg = linfit(x_reg, y_reg)\n",
    "    y_pred = linreg.predict(x_reg)\n",
    "    delta_y_pred = np.sqrt(np.sum(np.square(y_reg-y_pred))/k)\n",
    "    for ind in range(y_reg.size):\n",
    "        err = np.linalg.norm(y_reg[ind] - y_pred[ind])\n",
    "        if 3*delta_y_pred < err:\n",
    "            deltas.append(ind)\n",
    "    return deltas\n",
    "\n",
    "def beck_method(test, train, labels, k=100):\n",
    "    prediction = []\n",
    "    neigh = NearestNeighbors(n_neighbors=k, algorithm='kd_tree')\n",
    "    neigh.fit(train[labels].values)\n",
    "    for point in test[labels].values:\n",
    "        indices = neigh.kneighbors([point], return_distance=False)[0,:]\n",
    "        redshift = predict_redshift(train[labels].values[indices], train['z'].values[indices], point)\n",
    "        deltas = calc_excluded_indices(train[labels].values[indices], train['z'].values[indices], k)\n",
    "        #Redo fit\n",
    "        prev_size = indices.size\n",
    "        indices = np.delete(indices, deltas)\n",
    "        if indices.size < prev_size:\n",
    "            redshift = predict_redshift(train[labels].values[indices], train['z'].values[indices], point)\n",
    "        prediction.append(redshift)\n",
    "    return np.array(prediction)"
   ]
  },
  {
   "cell_type": "code",
   "execution_count": 72,
   "metadata": {
    "scrolled": false
   },
   "outputs": [],
   "source": [
    "pred = beck_method(test, train, beck_columns)"
   ]
  },
  {
   "cell_type": "code",
   "execution_count": 79,
   "metadata": {},
   "outputs": [
    {
     "data": {
      "image/png": "[encoded data removed]",
      "text/plain": [
       "<Figure size 360x360 with 1 Axes>"
      ]
     },
     "metadata": {},
     "output_type": "display_data"
    },
    {
     "name": "stdout",
     "output_type": "stream",
     "text": [
      "MSE :  0.002847738039634185\n"
     ]
    }
   ],
   "source": [
    "plt.figure(figsize=(5.,5.))\n",
    "plt.scatter(test['z'].values, pred, marker='x', c='b')\n",
    "plt.xlim(0,1)\n",
    "plt.ylim(0,1)\n",
    "plt.show()\n",
    "\n",
    "y_test = test['z'].values\n",
    "y_test = y_test.reshape(y_test.size, 1)\n",
    "print(\"MSE : \" , np.sum(np.square(pred-y_test))/pred.size)"
   ]
  },
  {
   "cell_type": "code",
   "execution_count": null,
   "metadata": {},
   "outputs": [],
   "source": []
  },
  {
   "cell_type": "code",
   "execution_count": null,
   "metadata": {},
   "outputs": [],
   "source": []
  }
 ],
 "metadata": {
  "kernelspec": {
   "display_name": "Python 3",
   "language": "python",
   "name": "python3"
  },
  "language_info": {
   "codemirror_mode": {
    "name": "ipython",
    "version": 3
   },
   "file_extension": ".py",
   "mimetype": "text/x-python",
   "name": "python",
   "nbconvert_exporter": "python",
   "pygments_lexer": "ipython3",
   "version": "3.6.5"
  }
 },
 "nbformat": 4,
 "nbformat_minor": 2
}
